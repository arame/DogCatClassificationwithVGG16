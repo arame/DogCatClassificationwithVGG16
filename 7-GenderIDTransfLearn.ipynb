{
 "cells": [
  {
   "cell_type": "markdown",
   "metadata": {},
   "source": [
    "### `list_attr_celeba` Dataset\n",
    "A popular component of computer vision and deep learning revolves around identifying faces for various applications from logging into your phone with your face or searching through surveillance images for a particular suspect. This dataset is great for training and testing models for face detection, particularly for recognising facial attributes such as finding people with brown hair, are smiling, or wearing glasses. Images cover large pose variations, background clutter, diverse people, supported by a large quantity of images and rich annotations. This data was originally collected by researchers at MMLAB, The Chinese University of Hong Kong (specific reference in Acknowledgment section).\n",
    "\n",
    "\n",
    "\n",
    "- 202,599 number of face images of various celebrities\n",
    "- 10,177 unique identities, but names of identities are not given\n",
    "- 40 binary attribute annotations per image\n",
    "\n",
    "You can obtain the dataset from https://www.kaggle.com/jessicali9530/celeba-dataset"
   ]
  },
  {
   "cell_type": "code",
   "execution_count": 1,
   "metadata": {},
   "outputs": [],
   "source": [
    "import numpy as np\n",
    "import pandas as pd \n",
    "import matplotlib.pyplot as plt\n",
    "from PIL import Image\n",
    "import random\n",
    "import os, math\n",
    "import logging\n",
    "import keras\n",
    "from keras.callbacks import ModelCheckpoint, EarlyStopping\n",
    "from keras.preprocessing import image\n",
    "from keras.preprocessing.image import ImageDataGenerator\n",
    "from keras.utils import load_img\n",
    "from keras.utils import to_categorical\n",
    "from keras.models import Model\n",
    "from keras.applications.vgg16 import VGG16\n",
    "from keras.applications.vgg16 import preprocess_input\n",
    "from keras.models import Sequential\n",
    "from keras.layers import Dense, Flatten, Dropout, BatchNormalization\n",
    "from _logging import set_logging\n",
    "from _utility import get_perc, get_dictionaries_from_list\n",
    "from _pckle import save_pickle_object\n",
    "from _data_celeb import organise_images_in_folders\n",
    "\n",
    "set_logging(logging)\n",
    "data_folder = \"celeb_small\"\n",
    "generator_image_folder = os.path.join(data_folder, \"data\")\n",
    "# celeb_small\\img_align_celeba\\img_align_celeba\n",
    "image_folder = os.path.join(\"celeb_small\", \"img_align_celeba\", \"img_align_celeba\")\n",
    "image_directory = os.path.join(\"celeb_small\", \"img_align_celeba\")\n",
    "class gl:\n",
    "    image_id = \"image_id\"\n",
    "    is_male = \"Male\""
   ]
  },
  {
   "cell_type": "code",
   "execution_count": 2,
   "metadata": {},
   "outputs": [
    {
     "data": {
      "text/plain": [
       "array(['image_id', '5_o_Clock_Shadow', 'Arched_Eyebrows', 'Attractive',\n",
       "       'Bags_Under_Eyes', 'Bald', 'Bangs', 'Big_Lips', 'Big_Nose',\n",
       "       'Black_Hair', 'Blond_Hair', 'Blurry', 'Brown_Hair',\n",
       "       'Bushy_Eyebrows', 'Chubby', 'Double_Chin', 'Eyeglasses', 'Goatee',\n",
       "       'Gray_Hair', 'Heavy_Makeup', 'High_Cheekbones', 'Male',\n",
       "       'Mouth_Slightly_Open', 'Mustache', 'Narrow_Eyes', 'No_Beard',\n",
       "       'Oval_Face', 'Pale_Skin', 'Pointy_Nose', 'Receding_Hairline',\n",
       "       'Rosy_Cheeks', 'Sideburns', 'Smiling', 'Straight_Hair',\n",
       "       'Wavy_Hair', 'Wearing_Earrings', 'Wearing_Hat', 'Wearing_Lipstick',\n",
       "       'Wearing_Necklace', 'Wearing_Necktie', 'Young'], dtype=object)"
      ]
     },
     "execution_count": 2,
     "metadata": {},
     "output_type": "execute_result"
    }
   ],
   "source": [
    "df_celeb=pd.read_csv(os.path.join(data_folder,'list_attr_celeba.csv'))\n",
    "df_celeb.columns.values"
   ]
  },
  {
   "cell_type": "code",
   "execution_count": 3,
   "metadata": {},
   "outputs": [
    {
     "data": {
      "text/html": [
       "<div>\n",
       "<style scoped>\n",
       "    .dataframe tbody tr th:only-of-type {\n",
       "        vertical-align: middle;\n",
       "    }\n",
       "\n",
       "    .dataframe tbody tr th {\n",
       "        vertical-align: top;\n",
       "    }\n",
       "\n",
       "    .dataframe thead th {\n",
       "        text-align: right;\n",
       "    }\n",
       "</style>\n",
       "<table border=\"1\" class=\"dataframe\">\n",
       "  <thead>\n",
       "    <tr style=\"text-align: right;\">\n",
       "      <th></th>\n",
       "      <th>image_id</th>\n",
       "      <th>5_o_Clock_Shadow</th>\n",
       "      <th>Arched_Eyebrows</th>\n",
       "      <th>Attractive</th>\n",
       "      <th>Bags_Under_Eyes</th>\n",
       "      <th>Bald</th>\n",
       "      <th>Bangs</th>\n",
       "      <th>Big_Lips</th>\n",
       "      <th>Big_Nose</th>\n",
       "      <th>Black_Hair</th>\n",
       "      <th>...</th>\n",
       "      <th>Sideburns</th>\n",
       "      <th>Smiling</th>\n",
       "      <th>Straight_Hair</th>\n",
       "      <th>Wavy_Hair</th>\n",
       "      <th>Wearing_Earrings</th>\n",
       "      <th>Wearing_Hat</th>\n",
       "      <th>Wearing_Lipstick</th>\n",
       "      <th>Wearing_Necklace</th>\n",
       "      <th>Wearing_Necktie</th>\n",
       "      <th>Young</th>\n",
       "    </tr>\n",
       "  </thead>\n",
       "  <tbody>\n",
       "    <tr>\n",
       "      <th>0</th>\n",
       "      <td>000001.jpg</td>\n",
       "      <td>-1</td>\n",
       "      <td>1</td>\n",
       "      <td>1</td>\n",
       "      <td>-1</td>\n",
       "      <td>-1</td>\n",
       "      <td>-1</td>\n",
       "      <td>-1</td>\n",
       "      <td>-1</td>\n",
       "      <td>-1</td>\n",
       "      <td>...</td>\n",
       "      <td>-1</td>\n",
       "      <td>1</td>\n",
       "      <td>1</td>\n",
       "      <td>-1</td>\n",
       "      <td>1</td>\n",
       "      <td>-1</td>\n",
       "      <td>1</td>\n",
       "      <td>-1</td>\n",
       "      <td>-1</td>\n",
       "      <td>1</td>\n",
       "    </tr>\n",
       "    <tr>\n",
       "      <th>1</th>\n",
       "      <td>000002.jpg</td>\n",
       "      <td>-1</td>\n",
       "      <td>-1</td>\n",
       "      <td>-1</td>\n",
       "      <td>1</td>\n",
       "      <td>-1</td>\n",
       "      <td>-1</td>\n",
       "      <td>-1</td>\n",
       "      <td>1</td>\n",
       "      <td>-1</td>\n",
       "      <td>...</td>\n",
       "      <td>-1</td>\n",
       "      <td>1</td>\n",
       "      <td>-1</td>\n",
       "      <td>-1</td>\n",
       "      <td>-1</td>\n",
       "      <td>-1</td>\n",
       "      <td>-1</td>\n",
       "      <td>-1</td>\n",
       "      <td>-1</td>\n",
       "      <td>1</td>\n",
       "    </tr>\n",
       "    <tr>\n",
       "      <th>2</th>\n",
       "      <td>000003.jpg</td>\n",
       "      <td>-1</td>\n",
       "      <td>-1</td>\n",
       "      <td>-1</td>\n",
       "      <td>-1</td>\n",
       "      <td>-1</td>\n",
       "      <td>-1</td>\n",
       "      <td>1</td>\n",
       "      <td>-1</td>\n",
       "      <td>-1</td>\n",
       "      <td>...</td>\n",
       "      <td>-1</td>\n",
       "      <td>-1</td>\n",
       "      <td>-1</td>\n",
       "      <td>1</td>\n",
       "      <td>-1</td>\n",
       "      <td>-1</td>\n",
       "      <td>-1</td>\n",
       "      <td>-1</td>\n",
       "      <td>-1</td>\n",
       "      <td>1</td>\n",
       "    </tr>\n",
       "    <tr>\n",
       "      <th>3</th>\n",
       "      <td>000004.jpg</td>\n",
       "      <td>-1</td>\n",
       "      <td>-1</td>\n",
       "      <td>1</td>\n",
       "      <td>-1</td>\n",
       "      <td>-1</td>\n",
       "      <td>-1</td>\n",
       "      <td>-1</td>\n",
       "      <td>-1</td>\n",
       "      <td>-1</td>\n",
       "      <td>...</td>\n",
       "      <td>-1</td>\n",
       "      <td>-1</td>\n",
       "      <td>1</td>\n",
       "      <td>-1</td>\n",
       "      <td>1</td>\n",
       "      <td>-1</td>\n",
       "      <td>1</td>\n",
       "      <td>1</td>\n",
       "      <td>-1</td>\n",
       "      <td>1</td>\n",
       "    </tr>\n",
       "    <tr>\n",
       "      <th>4</th>\n",
       "      <td>000005.jpg</td>\n",
       "      <td>-1</td>\n",
       "      <td>1</td>\n",
       "      <td>1</td>\n",
       "      <td>-1</td>\n",
       "      <td>-1</td>\n",
       "      <td>-1</td>\n",
       "      <td>1</td>\n",
       "      <td>-1</td>\n",
       "      <td>-1</td>\n",
       "      <td>...</td>\n",
       "      <td>-1</td>\n",
       "      <td>-1</td>\n",
       "      <td>-1</td>\n",
       "      <td>-1</td>\n",
       "      <td>-1</td>\n",
       "      <td>-1</td>\n",
       "      <td>1</td>\n",
       "      <td>-1</td>\n",
       "      <td>-1</td>\n",
       "      <td>1</td>\n",
       "    </tr>\n",
       "  </tbody>\n",
       "</table>\n",
       "<p>5 rows × 41 columns</p>\n",
       "</div>"
      ],
      "text/plain": [
       "     image_id  5_o_Clock_Shadow  Arched_Eyebrows  Attractive  Bags_Under_Eyes  \\\n",
       "0  000001.jpg                -1                1           1               -1   \n",
       "1  000002.jpg                -1               -1          -1                1   \n",
       "2  000003.jpg                -1               -1          -1               -1   \n",
       "3  000004.jpg                -1               -1           1               -1   \n",
       "4  000005.jpg                -1                1           1               -1   \n",
       "\n",
       "   Bald  Bangs  Big_Lips  Big_Nose  Black_Hair  ...  Sideburns  Smiling  \\\n",
       "0    -1     -1        -1        -1          -1  ...         -1        1   \n",
       "1    -1     -1        -1         1          -1  ...         -1        1   \n",
       "2    -1     -1         1        -1          -1  ...         -1       -1   \n",
       "3    -1     -1        -1        -1          -1  ...         -1       -1   \n",
       "4    -1     -1         1        -1          -1  ...         -1       -1   \n",
       "\n",
       "   Straight_Hair  Wavy_Hair  Wearing_Earrings  Wearing_Hat  Wearing_Lipstick  \\\n",
       "0              1         -1                 1           -1                 1   \n",
       "1             -1         -1                -1           -1                -1   \n",
       "2             -1          1                -1           -1                -1   \n",
       "3              1         -1                 1           -1                 1   \n",
       "4             -1         -1                -1           -1                 1   \n",
       "\n",
       "   Wearing_Necklace  Wearing_Necktie  Young  \n",
       "0                -1               -1      1  \n",
       "1                -1               -1      1  \n",
       "2                -1               -1      1  \n",
       "3                 1               -1      1  \n",
       "4                -1               -1      1  \n",
       "\n",
       "[5 rows x 41 columns]"
      ]
     },
     "execution_count": 3,
     "metadata": {},
     "output_type": "execute_result"
    }
   ],
   "source": [
    "df_celeb.head()"
   ]
  },
  {
   "cell_type": "code",
   "execution_count": 4,
   "metadata": {},
   "outputs": [],
   "source": [
    "create_folders_flag = False\n",
    "if create_folders_flag:\n",
    "    organise_images_in_folders(df_celeb, gl, image_folder, data_folder)"
   ]
  },
  {
   "cell_type": "code",
   "execution_count": 5,
   "metadata": {},
   "outputs": [],
   "source": [
    "df_celeb_image = df_celeb[gl.image_id].copy()"
   ]
  },
  {
   "cell_type": "code",
   "execution_count": 6,
   "metadata": {},
   "outputs": [
    {
     "data": {
      "text/plain": [
       "0    000001.jpg\n",
       "1    000002.jpg\n",
       "2    000003.jpg\n",
       "3    000004.jpg\n",
       "4    000005.jpg\n",
       "Name: image_id, dtype: object"
      ]
     },
     "execution_count": 6,
     "metadata": {},
     "output_type": "execute_result"
    }
   ],
   "source": [
    "df_celeb_image.head()"
   ]
  },
  {
   "attachments": {},
   "cell_type": "markdown",
   "metadata": {
    "_uuid": "400a293df3c8499059d9175f3915187074efd971"
   },
   "source": [
    "#### See sample image\n"
   ]
  },
  {
   "cell_type": "code",
   "execution_count": 7,
   "metadata": {},
   "outputs": [],
   "source": [
    "def get_image(image_folder, image_id):\n",
    "    image_path = os.path.join(image_folder, image_id)\n",
    "    img = load_img(image_path)\n",
    "    return img"
   ]
  },
  {
   "cell_type": "code",
   "execution_count": 8,
   "metadata": {},
   "outputs": [
    {
     "name": "stdout",
     "output_type": "stream",
     "text": [
      "2023-01-28 14:29:04,884 | INFO : 1 000001.jpg\n",
      "2023-01-28 14:29:05,286 | INFO : 2 000002.jpg\n",
      "2023-01-28 14:29:05,300 | INFO : 3 000003.jpg\n",
      "2023-01-28 14:29:05,318 | INFO : 4 000004.jpg\n",
      "2023-01-28 14:29:05,338 | INFO : 5 000005.jpg\n",
      "2023-01-28 14:29:05,373 | INFO : 6 000006.jpg\n",
      "2023-01-28 14:29:05,387 | INFO : 7 000007.jpg\n",
      "2023-01-28 14:29:05,399 | INFO : 8 000008.jpg\n",
      "2023-01-28 14:29:05,588 | INFO : 9 000009.jpg\n",
      "2023-01-28 14:29:05,608 | INFO : 10 000010.jpg\n"
     ]
    },
    {
     "data": {
      "image/png": "[encoded data removed]",
      "text/plain": [
       "<Figure size 432x288 with 10 Axes>"
      ]
     },
     "metadata": {
      "needs_background": "light"
     },
     "output_type": "display_data"
    }
   ],
   "source": [
    "\n",
    "fig = plt.figure()   \n",
    "\n",
    "for i, image_id in enumerate(df_celeb_image, start=1):\n",
    "    if i > 10:\n",
    "        break\n",
    "\n",
    "    ax = fig.add_subplot(2,5,i)\n",
    "    logging.info(f\"{i} {image_id}\")\n",
    "    img = get_image(image_folder, image_id)\n",
    "    plt.imshow(img)\n",
    "\n",
    "plt.axis('off')\n",
    "plt.show()"
   ]
  },
  {
   "cell_type": "markdown",
   "metadata": {},
   "source": [
    "### 4. Build Model\n",
    "\n",
    "- First, copy VGG16 without the dense layers, use the weights from `imagenet`. Set the input shape to `(178,218,3)`.\n",
    "- Freeze the layers except the last two layers and print to see if the layers are trainable or not.\n",
    "- Build your sequential model (you are free to use a functioanl API as a further exercise). Include all the frozen VGG layers to your model. Add a Dense layer with 128 inouts and `relu` activation. Add a batch nomalizer, then a dense layer as the output layer. \n",
    "- Create an early stopping criteria monitorin the loss value for the validation set. Stop the search if the loss value deosnt change for two consecutive times.\n",
    "- Compile the model.\n",
    "- Save the best model automatically based on the performance of the validation set."
   ]
  },
  {
   "cell_type": "code",
   "execution_count": 9,
   "metadata": {},
   "outputs": [
    {
     "name": "stdout",
     "output_type": "stream",
     "text": [
      "Is trainable: False     <keras.engine.input_layer.InputLayer object at 0x00000232C22097C0>\n",
      "Is trainable: False     <keras.layers.convolutional.conv2d.Conv2D object at 0x00000232C22C93A0>\n",
      "Is trainable: False     <keras.layers.convolutional.conv2d.Conv2D object at 0x00000232C22C9BB0>\n",
      "Is trainable: False     <keras.layers.pooling.max_pooling2d.MaxPooling2D object at 0x00000232C2493FA0>\n",
      "Is trainable: False     <keras.layers.convolutional.conv2d.Conv2D object at 0x00000232C2340130>\n",
      "Is trainable: False     <keras.layers.convolutional.conv2d.Conv2D object at 0x00000232C24A7B80>\n",
      "Is trainable: False     <keras.layers.pooling.max_pooling2d.MaxPooling2D object at 0x00000232C24C8DF0>\n",
      "Is trainable: False     <keras.layers.convolutional.conv2d.Conv2D object at 0x00000232C24B47C0>\n",
      "Is trainable: False     <keras.layers.convolutional.conv2d.Conv2D object at 0x00000232C24E30D0>\n",
      "Is trainable: False     <keras.layers.convolutional.conv2d.Conv2D object at 0x00000232C24E3EE0>\n",
      "Is trainable: False     <keras.layers.pooling.max_pooling2d.MaxPooling2D object at 0x00000232C25123A0>\n",
      "Is trainable: False     <keras.layers.convolutional.conv2d.Conv2D object at 0x00000232C24FF9D0>\n",
      "Is trainable: False     <keras.layers.convolutional.conv2d.Conv2D object at 0x00000232C2528610>\n",
      "Is trainable: False     <keras.layers.convolutional.conv2d.Conv2D object at 0x00000232C2542E80>\n",
      "Is trainable: False     <keras.layers.pooling.max_pooling2d.MaxPooling2D object at 0x00000232C2549700>\n",
      "Is trainable: False     <keras.layers.convolutional.conv2d.Conv2D object at 0x00000232C253C580>\n",
      "Is trainable: False     <keras.layers.convolutional.conv2d.Conv2D object at 0x00000232C2503B80>\n",
      "Is trainable: True     <keras.layers.convolutional.conv2d.Conv2D object at 0x00000232C250A550>\n",
      "Is trainable: True     <keras.layers.pooling.max_pooling2d.MaxPooling2D object at 0x00000232C24D3760>\n"
     ]
    }
   ],
   "source": [
    "_input_shape = (178, 218, 3)\n",
    "_weights = \"imagenet\"\n",
    "vgg16_model = VGG16(include_top=False, weights=_weights, input_shape=_input_shape)\n",
    "\n",
    "# Freeze all but the last 2 layers\n",
    "for layer in vgg16_model.layers[:-2]: \n",
    "    layer.trainable = False\n",
    "    \n",
    "for layer in vgg16_model.layers:\n",
    "    print(f\"Is trainable: {layer.trainable}     {layer}\")"
   ]
  },
  {
   "cell_type": "code",
   "execution_count": 11,
   "metadata": {},
   "outputs": [
    {
     "data": {
      "text/plain": [
       "[<keras.layers.convolutional.conv2d.Conv2D at 0x232c22c93a0>,\n",
       " <keras.layers.convolutional.conv2d.Conv2D at 0x232c22c9bb0>,\n",
       " <keras.layers.pooling.max_pooling2d.MaxPooling2D at 0x232c2493fa0>,\n",
       " <keras.layers.convolutional.conv2d.Conv2D at 0x232c2340130>,\n",
       " <keras.layers.convolutional.conv2d.Conv2D at 0x232c24a7b80>,\n",
       " <keras.layers.pooling.max_pooling2d.MaxPooling2D at 0x232c24c8df0>,\n",
       " <keras.layers.convolutional.conv2d.Conv2D at 0x232c24b47c0>,\n",
       " <keras.layers.convolutional.conv2d.Conv2D at 0x232c24e30d0>,\n",
       " <keras.layers.convolutional.conv2d.Conv2D at 0x232c24e3ee0>,\n",
       " <keras.layers.pooling.max_pooling2d.MaxPooling2D at 0x232c25123a0>,\n",
       " <keras.layers.convolutional.conv2d.Conv2D at 0x232c24ff9d0>,\n",
       " <keras.layers.convolutional.conv2d.Conv2D at 0x232c2528610>,\n",
       " <keras.layers.convolutional.conv2d.Conv2D at 0x232c2542e80>,\n",
       " <keras.layers.pooling.max_pooling2d.MaxPooling2D at 0x232c2549700>,\n",
       " <keras.layers.convolutional.conv2d.Conv2D at 0x232c253c580>,\n",
       " <keras.layers.convolutional.conv2d.Conv2D at 0x232c2503b80>,\n",
       " <keras.layers.reshaping.flatten.Flatten at 0x232c8de4430>,\n",
       " <keras.layers.core.dense.Dense at 0x232c8d70a60>,\n",
       " <keras.layers.normalization.batch_normalization.BatchNormalization at 0x232c8dd4280>,\n",
       " <keras.layers.core.dense.Dense at 0x232c8df1b50>]"
      ]
     },
     "execution_count": 11,
     "metadata": {},
     "output_type": "execute_result"
    }
   ],
   "source": [
    "seq_model = Sequential()\n",
    "for layer in vgg16_model.layers[:-2]:\n",
    "    seq_model.add(layer)\n",
    "    \n",
    "seq_model.add(Flatten())\n",
    "seq_model.add(Dense(units=128, activation=\"relu\"))\n",
    "seq_model.add(BatchNormalization())\n",
    "seq_model.add(Dense(units=1, activation=\"sigmoid\"))\n",
    "seq_model.layers"
   ]
  },
  {
   "cell_type": "code",
   "execution_count": 12,
   "metadata": {},
   "outputs": [
    {
     "name": "stdout",
     "output_type": "stream",
     "text": [
      "WARNING:tensorflow:`period` argument is deprecated. Please use `save_freq` to specify the frequency in number of batches seen.\n"
     ]
    }
   ],
   "source": [
    "\n",
    "\n",
    "# stop the search if the loss value does not change for 2 consequtive times\n",
    "_patience = 2\n",
    "_monitor = \"val_loss\"\n",
    "_loss = keras.losses.BinaryCrossentropy()\n",
    "#_metrics = keras.metrics.BinaryCrossentropy()\n",
    "_metrics = [\"accuracy\"]\n",
    "_optimizer = keras.optimizers.Adam(learning_rate=0.001, decay=1e-6)\n",
    "early = EarlyStopping(monitor=_monitor, min_delta=0, patience=_patience, verbose=1, mode=\"auto\")\n",
    "checkpoint_path = os.path.join(data_folder, \"checkpoint\", \"vgg16_1.h5\")\n",
    "checkpoint = ModelCheckpoint(checkpoint_path, monitor=_monitor, verbose=1, save_best_only=True, save_weights_only=False, mode=\"auto\", period=1)\n",
    "_callbacks = [early, checkpoint]\n",
    "seq_model.compile(optimizer=_optimizer, loss=_loss, metrics=_metrics)\n"
   ]
  },
  {
   "cell_type": "markdown",
   "metadata": {},
   "source": [
    "## 5. Data Preparation\n",
    "\n",
    "- Create a validation set with 20% of the data. Check the number of data points per class from both the train and validation sets.\n",
    "- Set your batch size to 20.\n",
    "- Create the data generator and set the `preprocessing_function` to `preprocess_input` of VGG16.\n",
    "- Create train and validation data generators (batches will be picked up from the dataframe). Set target size to (178,218) (you can try something else, but you need to do the corresponding change in the model).\n",
    "- Set your validation  and epoch step size (`validation_steps` and `steps_per_epoch`)"
   ]
  },
  {
   "cell_type": "code",
   "execution_count": 13,
   "metadata": {},
   "outputs": [
    {
     "name": "stdout",
     "output_type": "stream",
     "text": [
      "Found 162080 images belonging to 2 classes.\n",
      "Found 40519 images belonging to 2 classes.\n",
      "2023-01-28 14:30:32,951 | INFO : Steps per epoch = 8104, steps per validation = 2025\n"
     ]
    }
   ],
   "source": [
    "image_data_gen = ImageDataGenerator(validation_split=0.2)\n",
    "_target_size = (178, 218)\n",
    "_batch_size = 20\n",
    "\n",
    "train_data_gen = image_data_gen.flow_from_directory(directory=generator_image_folder, target_size=_target_size, batch_size=_batch_size, class_mode=\"binary\", shuffle=True, subset=\"training\")\n",
    "\n",
    "val_data_gen = image_data_gen.flow_from_directory(directory=generator_image_folder, target_size=_target_size, batch_size=_batch_size, class_mode=\"binary\", shuffle=True, subset=\"validation\")\n",
    "\n",
    "_steps_per_epoch = math.ceil(train_data_gen.samples // _batch_size)\n",
    "_steps_per_validation = math.ceil(val_data_gen.samples // _batch_size)\n",
    "logging.info(f\"Steps per epoch = {_steps_per_epoch}, steps per validation = {_steps_per_validation}\")\n"
   ]
  },
  {
   "cell_type": "markdown",
   "metadata": {},
   "source": [
    "## 6. Train the Model\n",
    "\n",
    "- Fit the model\n",
    "- save the model"
   ]
  },
  {
   "cell_type": "code",
   "execution_count": 14,
   "metadata": {},
   "outputs": [
    {
     "name": "stderr",
     "output_type": "stream",
     "text": [
      "C:\\Users\\hijik\\AppData\\Local\\Temp\\ipykernel_16752\\1844144950.py:2: UserWarning: `Model.fit_generator` is deprecated and will be removed in a future version. Please use `Model.fit`, which supports generators.\n",
      "  seq_model.fit_generator(generator=train_data_gen, validation_data=val_data_gen, steps_per_epoch=_steps_per_epoch, epochs=_epochs, callbacks=_callbacks)\n"
     ]
    },
    {
     "name": "stdout",
     "output_type": "stream",
     "text": [
      "Epoch 1/20\n",
      "8104/8104 [==============================] - ETA: 0s - loss: 0.1327 - accuracy: 0.9492\n",
      "Epoch 1: val_loss improved from inf to 0.14012, saving model to celeb_small\\checkpoint\\vgg16_1.h5\n",
      "8104/8104 [==============================] - 22879s 3s/step - loss: 0.1327 - accuracy: 0.9492 - val_loss: 0.1401 - val_accuracy: 0.9482\n",
      "Epoch 2/20\n",
      "8104/8104 [==============================] - ETA: 0s - loss: 0.0885 - accuracy: 0.9682\n",
      "Epoch 2: val_loss improved from 0.14012 to 0.09439, saving model to celeb_small\\checkpoint\\vgg16_1.h5\n",
      "8104/8104 [==============================] - 21593s 3s/step - loss: 0.0885 - accuracy: 0.9682 - val_loss: 0.0944 - val_accuracy: 0.9692\n",
      "Epoch 3/20\n",
      "8104/8104 [==============================] - ETA: 0s - loss: 0.0682 - accuracy: 0.9755\n",
      "Epoch 3: val_loss improved from 0.09439 to 0.08216, saving model to celeb_small\\checkpoint\\vgg16_1.h5\n",
      "8104/8104 [==============================] - 21721s 3s/step - loss: 0.0682 - accuracy: 0.9755 - val_loss: 0.0822 - val_accuracy: 0.9714\n",
      "Epoch 4/20\n",
      "8104/8104 [==============================] - ETA: 0s - loss: 0.0520 - accuracy: 0.9813\n",
      "Epoch 4: val_loss did not improve from 0.08216\n",
      "8104/8104 [==============================] - 19972s 2s/step - loss: 0.0520 - accuracy: 0.9813 - val_loss: 0.0845 - val_accuracy: 0.9712\n",
      "Epoch 5/20\n",
      "8104/8104 [==============================] - ETA: 0s - loss: 0.0420 - accuracy: 0.9851\n",
      "Epoch 5: val_loss did not improve from 0.08216\n",
      "8104/8104 [==============================] - 24643s 3s/step - loss: 0.0420 - accuracy: 0.9851 - val_loss: 0.1157 - val_accuracy: 0.9685\n",
      "Epoch 5: early stopping\n"
     ]
    },
    {
     "name": "stderr",
     "output_type": "stream",
     "text": [
      "C:\\Users\\hijik\\AppData\\Local\\Temp\\ipykernel_16752\\1844144950.py:3: UserWarning: `Model.evaluate_generator` is deprecated and will be removed in a future version. Please use `Model.evaluate`, which supports generators.\n",
      "  score = seq_model.evaluate_generator(val_data_gen)\n"
     ]
    },
    {
     "name": "stdout",
     "output_type": "stream",
     "text": [
      "Test loss: 0.11574515700340271\n",
      "Test accuracy: 0.11574515700340271\n",
      "2023-01-29 22:19:23,098 | INFO : Saving pickle file from: pickle\\seq_model.pkl\n",
      "Keras weights file (<HDF5 file \"variables.h5\" (mode r+)>) saving:\n",
      "...layers\\batch_normalization\n",
      "......vars\n",
      ".........0\n",
      ".........1\n",
      ".........2\n",
      ".........3\n",
      "...layers\\conv2d\n",
      "......vars\n",
      ".........0\n",
      ".........1\n",
      "...layers\\conv2d_1\n",
      "......vars\n",
      ".........0\n",
      ".........1\n",
      "...layers\\conv2d_10\n",
      "......vars\n",
      ".........0\n",
      ".........1\n",
      "...layers\\conv2d_11\n",
      "......vars\n",
      ".........0\n",
      ".........1\n",
      "...layers\\conv2d_2\n",
      "......vars\n",
      ".........0\n",
      ".........1\n",
      "...layers\\conv2d_3\n",
      "......vars\n",
      ".........0\n",
      ".........1\n",
      "...layers\\conv2d_4\n",
      "......vars\n",
      ".........0\n",
      ".........1\n",
      "...layers\\conv2d_5\n",
      "......vars\n",
      ".........0\n",
      ".........1\n",
      "...layers\\conv2d_6\n",
      "......vars\n",
      ".........0\n",
      ".........1\n",
      "...layers\\conv2d_7\n",
      "......vars\n",
      ".........0\n",
      ".........1\n",
      "...layers\\conv2d_8\n",
      "......vars\n",
      ".........0\n",
      ".........1\n",
      "...layers\\conv2d_9\n",
      "......vars\n",
      ".........0\n",
      ".........1\n",
      "...layers\\dense\n",
      "......vars\n",
      ".........0\n",
      ".........1\n",
      "...layers\\dense_1\n",
      "......vars\n",
      ".........0\n",
      ".........1\n",
      "...layers\\flatten\n",
      "......vars\n",
      "...layers\\max_pooling2d\n",
      "......vars\n",
      "...layers\\max_pooling2d_1\n",
      "......vars\n",
      "...layers\\max_pooling2d_2\n",
      "......vars\n",
      "...layers\\max_pooling2d_3\n",
      "......vars\n",
      "...metrics\\mean\n",
      "......vars\n",
      ".........0\n",
      ".........1\n",
      "...metrics\\mean_metric_wrapper\n",
      "......vars\n",
      ".........0\n",
      ".........1\n",
      "...vars\n",
      "Keras model archive saving:\n",
      "File Name                                             Modified             Size\n",
      "config.json                                    2023-01-29 22:19:23        10121\n",
      "metadata.json                                  2023-01-29 22:19:23           64\n",
      "variables.h5                                   2023-01-29 22:19:26     86966912\n"
     ]
    }
   ],
   "source": [
    "\n",
    "\n",
    "_epochs = 20\n",
    "seq_model.fit_generator(generator=train_data_gen, validation_data=val_data_gen, steps_per_epoch=_steps_per_epoch, epochs=_epochs, callbacks=_callbacks)\n",
    "score = seq_model.evaluate_generator(val_data_gen)\n",
    "print(f\"Test loss: {score[0]}\")\n",
    "print(f\"Test accuracy: {score[0]}\")\n",
    "save_pickle_object(seq_model, \"seq_model.pkl\")"
   ]
  },
  {
   "attachments": {},
   "cell_type": "markdown",
   "metadata": {},
   "source": [
    "The model is very good at predicting the gender of the person in the photo. The accuracy of the model peaked on the 3rd epoch. After that the training metrics continued to improve but diverged from the validation metrics implying that the model is starting to overfit from the training data. The early stopping prevented the model from overfitting too much.\n",
    "The training took a long time to run so there was no time to tune the hyperparameters. In any case the results were very good so there is not much room for improvement. "
   ]
  }
 ],
 "metadata": {
  "kernelspec": {
   "display_name": "base",
   "language": "python",
   "name": "python3"
  },
  "language_info": {
   "codemirror_mode": {
    "name": "ipython",
    "version": 3
   },
   "file_extension": ".py",
   "mimetype": "text/x-python",
   "name": "python",
   "nbconvert_exporter": "python",
   "pygments_lexer": "ipython3",
   "version": "3.9.12"
  },
  "vscode": {
   "interpreter": {
    "hash": "88279d2366fe020547cde40dd65aa0e3aa662a6ec1f3ca12d88834876c85e1a6"
   }
  }
 },
 "nbformat": 4,
 "nbformat_minor": 4
}
