{
 "cells": [
  {
   "attachments": {},
   "cell_type": "markdown",
   "metadata": {},
   "source": [
    "One of the image files is corrupt. Find out which one."
   ]
  },
  {
   "cell_type": "code",
   "execution_count": 19,
   "metadata": {},
   "outputs": [],
   "source": [
    "from PIL import Image\n",
    "from PIL import UnidentifiedImageError\n",
    "import glob, logging, os\n",
    "from _logging import set_logging\n",
    "\n",
    "set_logging(logging)"
   ]
  },
  {
   "cell_type": "code",
   "execution_count": 20,
   "metadata": {},
   "outputs": [
    {
     "name": "stdout",
     "output_type": "stream",
     "text": [
      "2023-01-18 20:51:56,209 | ERROR : Invalid image 27: car_flower_small\\car.1115.jpg\n"
     ]
    }
   ],
   "source": [
    "image_location = \"car_flower_small//*.jpg\"\n",
    "image_paths = glob.glob(image_location)\n",
    "for i, image_path in enumerate(image_paths):\n",
    "    #logging.info(f\"File = {i} {image_path}\")\n",
    "    try:\n",
    "        Image.open(image_path)\n",
    "    except UnidentifiedImageError:\n",
    "        logging.error(f\"Invalid image {i}: {image_path}\")\n",
    "\n"
   ]
  }
 ],
 "metadata": {
  "kernelspec": {
   "display_name": "base",
   "language": "python",
   "name": "python3"
  },
  "language_info": {
   "codemirror_mode": {
    "name": "ipython",
    "version": 3
   },
   "file_extension": ".py",
   "mimetype": "text/x-python",
   "name": "python",
   "nbconvert_exporter": "python",
   "pygments_lexer": "ipython3",
   "version": "3.9.13 (main, Aug 25 2022, 23:51:50) [MSC v.1916 64 bit (AMD64)]"
  },
  "orig_nbformat": 4,
  "vscode": {
   "interpreter": {
    "hash": "b41ba045e83f0be7a0a86cbeef029bed6bb1f3047ea5aef815a52ba8b6ba543c"
   }
  }
 },
 "nbformat": 4,
 "nbformat_minor": 2
}
