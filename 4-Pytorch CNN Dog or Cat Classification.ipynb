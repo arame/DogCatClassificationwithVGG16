{
 "cells": [
  {
   "attachments": {},
   "cell_type": "markdown",
   "metadata": {},
   "source": [
    "## Cat Dog Dataset\n",
    "\n",
    "The training archive contains 25,000 images of dogs and cats. Train your algorithm on these files and predict the labels for test1.zip (1 = dog, 0 = cat).\n",
    "\n",
    "You can obtain the dataset from https://www.kaggle.com/c/dogs-vs-cats/data\n",
    "\n",
    "This case study is adopted from https://www.kaggle.com/uysimty/keras-cnn-dog-or-cat-classification"
   ]
  },
  {
   "attachments": {},
   "cell_type": "markdown",
   "metadata": {},
   "source": [
    "### 1. Import Library"
   ]
  },
  {
   "cell_type": "code",
   "execution_count": 1,
   "metadata": {},
   "outputs": [
    {
     "name": "stderr",
     "output_type": "stream",
     "text": [
      "d:\\Anaconda\\envs\\fastai\\lib\\site-packages\\tqdm\\auto.py:22: TqdmWarning: IProgress not found. Please update jupyter and ipywidgets. See https://ipywidgets.readthedocs.io/en/stable/user_install.html\n",
      "  from .autonotebook import tqdm as notebook_tqdm\n"
     ]
    }
   ],
   "source": [
    "import numpy as np\n",
    "import pandas as pd \n",
    "import torch\n",
    "import torch.nn as nn\n",
    "import torch\n",
    "import torch.optim as optim\n",
    "import torch.nn.functional as F\n",
    "from torchvision import datasets, models, transforms\n",
    "from torch.utils.data import DataLoader, Dataset\n",
    "from sklearn.model_selection import train_test_split\n",
    "import matplotlib.pyplot as plt\n",
    "import random\n",
    "from _data_new import organise_images_in_folders\n",
    "import os, logging, glob\n",
    "from _logging import set_logging\n",
    "from _utility import get_perc\n",
    "\n",
    "set_logging(logging)\n",
    "\n",
    "organise_images_flag = False\n",
    "data_folder = \"cats_dogs_small\"\n",
    "classes = [\"cat\", \"dog\"]\n",
    "dict_classes = {\"cat\": 0, \"dog\": 1}\n",
    "if organise_images_flag:\n",
    "    organise_images_in_folders(data_folder, classes)\n",
    "\n",
    "#class of gpu\n",
    "class gpu:\n",
    "    device = 'cuda' if torch.cuda.is_available() else 'cpu'\n",
    "\n",
    "# class of hyperparameters\n",
    "class hyper:\n",
    "    lr = 0.01\n",
    "    batch_size = 100\n",
    "    epochs = 10\n",
    "    \n"
   ]
  },
  {
   "attachments": {},
   "cell_type": "markdown",
   "metadata": {},
   "source": [
    "### 2. Define Constants"
   ]
  },
  {
   "cell_type": "code",
   "execution_count": 2,
   "metadata": {},
   "outputs": [],
   "source": [
    "FAST_RUN = True #False\n",
    "IMAGE_WIDTH=128\n",
    "IMAGE_HEIGHT=128\n",
    "IMAGE_SIZE=(IMAGE_WIDTH, IMAGE_HEIGHT)\n",
    "IMAGE_CHANNELS=3"
   ]
  },
  {
   "attachments": {},
   "cell_type": "markdown",
   "metadata": {},
   "source": [
    "### 3. Prepare Traning Data"
   ]
  },
  {
   "cell_type": "code",
   "execution_count": 3,
   "metadata": {},
   "outputs": [],
   "source": [
    "def get_data(data_folder, type):\n",
    "    file_path = os.path.join(data_folder, \"data\", type, \"*\\\\*\")\n",
    "    list = glob.glob(file_path)\n",
    "    X_list = random.sample(list, len(list))\n",
    "    labels = []\n",
    "    for item in X_list:\n",
    "        temp = item.split(\".\")\n",
    "        labels.append(dict_classes[\"cat\"] if temp[0].endswith(\"cat\") else dict_classes[\"dog\"])\n",
    "        \n",
    "    return X_list, labels\n",
    "        \n",
    "        "
   ]
  },
  {
   "cell_type": "code",
   "execution_count": 4,
   "metadata": {},
   "outputs": [
    {
     "name": "stdout",
     "output_type": "stream",
     "text": [
      "2023-01-20 20:13:21,988 | INFO : 50.24\\% of the training images are labelled as dogs\n",
      "2023-01-20 20:13:21,990 | INFO : 50.24\\% of the test images labelled as dogs\n"
     ]
    }
   ],
   "source": [
    "X_train, y_train = get_data(data_folder, \"train\")\n",
    "X_test, y_test = get_data(data_folder, \"test\")\n",
    "dogs_perc_train = get_perc(sum(y_train), len(y_train))\n",
    "dogs_perc_test = get_perc(sum(y_test), len(y_test))\n",
    "logging.info(f\"{dogs_perc_train}\\% of the training images are labelled as dogs\")\n",
    "logging.info(f\"{dogs_perc_test}\\% of the test images labelled as dogs\")\n",
    "# get labels"
   ]
  },
  {
   "attachments": {},
   "cell_type": "markdown",
   "metadata": {},
   "source": [
    "#### See Total In count"
   ]
  },
  {
   "cell_type": "code",
   "execution_count": 6,
   "metadata": {},
   "outputs": [
    {
     "name": "stdout",
     "output_type": "stream",
     "text": [
      "2023-01-20 20:20:10,280 | INFO : From our data we have 1264 cats and 1276 dogs\n"
     ]
    }
   ],
   "source": [
    "number_dogs = sum(y_train) + sum(y_test)\n",
    "number_cats = len(y_train) + len(y_test) - number_dogs\n",
    "logging.info(f\"From our data we have {number_cats} cats and {number_dogs} dogs\")"
   ]
  },
  {
   "attachments": {},
   "cell_type": "markdown",
   "metadata": {},
   "source": [
    "#### See sample image"
   ]
  },
  {
   "cell_type": "code",
   "execution_count": null,
   "metadata": {},
   "outputs": [],
   "source": []
  }
 ],
 "metadata": {
  "kernelspec": {
   "display_name": "fastai",
   "language": "python",
   "name": "python3"
  },
  "language_info": {
   "codemirror_mode": {
    "name": "ipython",
    "version": 3
   },
   "file_extension": ".py",
   "mimetype": "text/x-python",
   "name": "python",
   "nbconvert_exporter": "python",
   "pygments_lexer": "ipython3",
   "version": "3.10.9"
  },
  "orig_nbformat": 4,
  "vscode": {
   "interpreter": {
    "hash": "feae056ab4b12a897e2e38ddf084e6c647046213eebbfe8242c21e04b9fad718"
   }
  }
 },
 "nbformat": 4,
 "nbformat_minor": 2
}
